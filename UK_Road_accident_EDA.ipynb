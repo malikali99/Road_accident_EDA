{
 "cells": [
  {
   "cell_type": "markdown",
   "metadata": {},
   "source": [
    "# **`UK Road Accident EDA with Power BI`**\n",
    "![Alt Text](./acc_2.png)\n",
    "_______\n",
    "**`Live Preview:`**\n",
    "For a live preview click [here.](https://app.powerbi.com/view?r=eyJrIjoiOTc0MDkxMGEtYTEwNy00ZjUyLWE2MzktMDUzOWYzODhmMmYzIiwidCI6IjYyZjIxODFlLWY4ZjQtNDVjZS05NzE0LTIyNTIyYjE2OWY1NSIsImMiOjl9)\n",
    "_______\n",
    "**`Author Name:`** Malik Hasnain Ali\\\n",
    "**`Email ID:`** 512yaali@gmai.com\\\n",
    "**`Linkedin profile:`** [hasnainali99](https://www.linkedin.com/in/hasnainali99/)\n",
    "_______\n",
    "**`Data Source:`**\\\n",
    "It is a secondary data which is collected from the following [link](https://drive.google.com/drive/folders/1pCNs-TRPznlbAn712gAGy7XfBnWs2QJm)\n",
    "_______\n",
    "**`Data Collection:`**\\\n",
    "Data collected can be seen as a raw .xlsx file here\n",
    "_______\n",
    "**`Data Storage:`**\\\n",
    "The collected data has been stored in the Comma Separated Value file Road_accident_data.xlsx. \n",
    "_______\n",
    "**`Data Publish Year:`**\n",
    "- 2023\n",
    "_______\n",
    "**`Tools:`**\n",
    "- Power BI\n",
    "- Markdown\n",
    "- Excel\n",
    "- Microsoft Office\n",
    "- Canva\n",
    "- Vscode\n",
    "_______\n",
    "**`Data Cleaning/Preparation:`**\\\n",
    "In the initial data preparation phase, we performed the following tasks:\n",
    "1. Data loading and inspection\n",
    "2. Handling Missing values\n",
    "3. Handling Outliers\n",
    "4. Data Cleaning and formating\n",
    "_______"
   ]
  }
 ],
 "metadata": {
  "kernelspec": {
   "display_name": "Python 3",
   "language": "python",
   "name": "python3"
  },
  "language_info": {
   "codemirror_mode": {
    "name": "ipython",
    "version": 3
   },
   "file_extension": ".py",
   "mimetype": "text/x-python",
   "name": "python",
   "nbconvert_exporter": "python",
   "pygments_lexer": "ipython3",
   "version": "3.11.2"
  },
  "orig_nbformat": 4
 },
 "nbformat": 4,
 "nbformat_minor": 2
}
